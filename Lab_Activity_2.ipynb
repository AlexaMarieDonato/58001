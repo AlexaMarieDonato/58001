{
  "nbformat": 4,
  "nbformat_minor": 0,
  "metadata": {
    "colab": {
      "provenance": [],
      "authorship_tag": "ABX9TyPtkUYGS0t8eIpksPpzTZTw",
      "include_colab_link": true
    },
    "kernelspec": {
      "name": "python3",
      "display_name": "Python 3"
    },
    "language_info": {
      "name": "python"
    }
  },
  "cells": [
    {
      "cell_type": "markdown",
      "metadata": {
        "id": "view-in-github",
        "colab_type": "text"
      },
      "source": [
        "<a href=\"https://colab.research.google.com/github/AlexaMarieDonato/OOP-58001/blob/main/Lab_Activity_2.ipynb\" target=\"_parent\"><img src=\"https://colab.research.google.com/assets/colab-badge.svg\" alt=\"Open In Colab\"/></a>"
      ]
    },
    {
      "cell_type": "markdown",
      "source": [
        "General Instructions:\n",
        "\n",
        "1. Write a Python program that asks the user to enter the radius of a circle and solve its area and perimeter.\n",
        "2. Create a class name Circle allowing you to build a circle with radius and pi attributes.\n",
        "3. Create a method Display() the perimeter and area using an instantiation of a class.\n",
        "4. Create a Perimeter() method to calculate the perimeter of the circle and an Area() method to calculate the area of ​​the circle.\n"
      ],
      "metadata": {
        "id": "wRqer9VaK4XD"
      }
    },
    {
      "cell_type": "code",
      "execution_count": 8,
      "metadata": {
        "colab": {
          "base_uri": "https://localhost:8080/"
        },
        "id": "WnY6iyJgK1sL",
        "outputId": "2f7bf884-756a-4c50-ab7c-c79ecd8b3d35"
      },
      "outputs": [
        {
          "output_type": "stream",
          "name": "stdout",
          "text": [
            "Enter the radius of the circle here: 6\n",
            "The perimeter of the circle is 37.69911184307752 , and the area of the circle is 113.09733552923255\n"
          ]
        }
      ],
      "source": [
        "import math\n",
        "\n",
        "class Circle:\n",
        "  def __init__(circle, radius):\n",
        "    circle.radius = radius\n",
        "    circle.pi = math.pi\n",
        "  def perimeter(circle):\n",
        "    return 2 * circle.pi * circle.radius\n",
        "  def area(circle):\n",
        "    return circle.pi * (circle.radius**2)\n",
        "  def display(circle):\n",
        "    print(\"The perimeter of the circle is\", circle.perimeter(), \", and the area of the circle is\", circle.area())\n",
        "\n",
        "ring = Circle(float(input(\"Enter the radius of the circle here: \")))\n",
        "ring.display()\n"
      ]
    }
  ]
}