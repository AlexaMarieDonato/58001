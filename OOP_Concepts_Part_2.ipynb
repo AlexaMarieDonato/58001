{
  "nbformat": 4,
  "nbformat_minor": 0,
  "metadata": {
    "colab": {
      "provenance": [],
      "authorship_tag": "ABX9TyPRkZKXtW0Z+bLQsHEJfevV",
      "include_colab_link": true
    },
    "kernelspec": {
      "name": "python3",
      "display_name": "Python 3"
    },
    "language_info": {
      "name": "python"
    }
  },
  "cells": [
    {
      "cell_type": "markdown",
      "metadata": {
        "id": "view-in-github",
        "colab_type": "text"
      },
      "source": [
        "<a href=\"https://colab.research.google.com/github/AlexaMarieDonato/OOP-58001/blob/main/OOP_Concepts_Part_2.ipynb\" target=\"_parent\"><img src=\"https://colab.research.google.com/assets/colab-badge.svg\" alt=\"Open In Colab\"/></a>"
      ]
    },
    {
      "cell_type": "markdown",
      "source": [
        "Demo 1"
      ],
      "metadata": {
        "id": "DG9VbOYNW2x6"
      }
    },
    {
      "cell_type": "code",
      "execution_count": 3,
      "metadata": {
        "colab": {
          "base_uri": "https://localhost:8080/"
        },
        "id": "nrsmb8P2WziW",
        "outputId": "8ee32037-9635-4d4d-a5ba-55ebff42503d"
      },
      "outputs": [
        {
          "output_type": "stream",
          "name": "stdout",
          "text": [
            "Griffon Vulture flies above clouds\n",
            "Common Crane flies above clouds\n",
            "Emu is the national bird of the Philippines\n"
          ]
        }
      ],
      "source": [
        "#class with multiple objects\n",
        "class Birds:\n",
        "  def __init__(self, bird_name):\n",
        "    self.bird_name = bird_name\n",
        "  def flying_birds(self):\n",
        "    print(f\"{self.bird_name} flies above clouds\")\n",
        "  def non_flying_birds(self):\n",
        "    print(f\"{self.bird_name} is the national bird of the Philippines\")\n",
        "\n",
        "vulture = Birds(\"Griffon Vulture\")\n",
        "crane = Birds(\"Common Crane\")\n",
        "emu = Birds(\"Emu\")\n",
        "\n",
        "vulture.flying_birds()\n",
        "crane.flying_birds()\n",
        "emu.non_flying_birds()"
      ]
    },
    {
      "cell_type": "code",
      "source": [
        "#encapsulation\n",
        "class foo:\n",
        "  def __init__(self, a, b):\n",
        "    self.__a = a\n",
        "    self.__b = b\n",
        "  def add(self):\n",
        "    return self.__a + self.__b\n",
        "\n",
        "foo_object = foo(3,4)\n",
        "foo_object.add()\n",
        "foo_object.a = 5\n",
        "foo_object.add()"
      ],
      "metadata": {
        "colab": {
          "base_uri": "https://localhost:8080/"
        },
        "id": "g9kvXH19ZBNp",
        "outputId": "83bdb4c9-d04e-47da-8454-725481def136"
      },
      "execution_count": 11,
      "outputs": [
        {
          "output_type": "execute_result",
          "data": {
            "text/plain": [
              "7"
            ]
          },
          "metadata": {},
          "execution_count": 11
        }
      ]
    },
    {
      "cell_type": "code",
      "source": [
        "class Counter:\n",
        "  def __init__(self):\n",
        "    self.current = 0\n",
        "  def increment(self):\n",
        "    self.current += 1\n",
        "  def value(self):\n",
        "    return self.current\n",
        "  def reset(self):\n",
        "    self.current = 0\n",
        "  \n",
        "counter = Counter()\n",
        "counter.increment()\n",
        "counter.value()\n"
      ],
      "metadata": {
        "colab": {
          "base_uri": "https://localhost:8080/"
        },
        "id": "VKVJdxkXcOvJ",
        "outputId": "e55bd88f-6892-4cef-9211-e95d2089a825"
      },
      "execution_count": 28,
      "outputs": [
        {
          "output_type": "execute_result",
          "data": {
            "text/plain": [
              "1"
            ]
          },
          "metadata": {},
          "execution_count": 28
        }
      ]
    },
    {
      "cell_type": "code",
      "source": [
        "#inheritance\n",
        "class Person:\n",
        "  def __init__(self, name, birthdate):\n",
        "    self.name = name\n",
        "    self.birthdate = birthdate\n",
        "  def display(self):\n",
        "    print(f\"My name is\", self.name)\n",
        "    print(f\"My birthdate is\", self.birthdate)\n",
        "class Student(Person):\n",
        "  pass\n",
        "class Teacher(Person):\n",
        "  pass\n",
        "student = Person(\"Alexa\", \"February 28, 2004\")\n",
        "student.display()\n",
        "teacher = Teacher(\"Ana\", \"February 14, 1990\")\n",
        "teacher.display()"
      ],
      "metadata": {
        "colab": {
          "base_uri": "https://localhost:8080/"
        },
        "id": "DZCLKjNBd-s_",
        "outputId": "c7bee637-a912-448a-db53-31b2101537af"
      },
      "execution_count": 58,
      "outputs": [
        {
          "output_type": "stream",
          "name": "stdout",
          "text": [
            "My name is Alexa\n",
            "My birthdate is February 28, 2004\n",
            "My name is Ana\n",
            "My birthdate is February 14, 1990\n"
          ]
        }
      ]
    },
    {
      "cell_type": "code",
      "source": [
        "#create a superclass name Shapes (5 shapes)\n",
        "#attributes sides\n",
        "#create a function/method that displays the number of sides of each shape\n",
        "#apply inehritance and encapsulation\n",
        "\n",
        "class Shapes:\n",
        "  def __init__(self, side, number):\n",
        "    self.__side = side\n",
        "    self.__number = number\n",
        "  def display(self):\n",
        "    print(f\"The shape is\", self.__side)\n",
        "    print(f\"The number of sides is\", self.__number)\n",
        "\n",
        "class Triangle(Shapes):\n",
        "  pass\n",
        "class Rectangle(Shapes):\n",
        "  pass\n",
        "class Hexagon(Shapes):\n",
        "  pass\n",
        "class Octagon(Shapes):\n",
        "  pass\n",
        "class Nonagon(Shapes):\n",
        "  pass\n",
        "\n",
        "triangle = Triangle(\"Triangle\", \"3\")\n",
        "rectangle = Rectangle(\"Rectangle\", \"4\")\n",
        "hexagon = Hexagon(\"Hexagon\", \"6\")\n",
        "octagon = Octagon(\"Octagon\", \"8\")\n",
        "nonagon = Nonagon(\"Nonagon\", \"9\")\n",
        "\n",
        "triangle.display()\n",
        "rectangle.display()\n",
        "hexagon.display()\n",
        "octagon.display()\n",
        "nonagon.display()"
      ],
      "metadata": {
        "colab": {
          "base_uri": "https://localhost:8080/"
        },
        "id": "j9hkzokfgg6K",
        "outputId": "6853b215-e471-4ed9-fe89-9e01d68318d9"
      },
      "execution_count": 83,
      "outputs": [
        {
          "output_type": "stream",
          "name": "stdout",
          "text": [
            "The shape is Triangle\n",
            "The number of sides is 3\n",
            "The shape is Rectangle\n",
            "The number of sides is 4\n",
            "The shape is Hexagon\n",
            "The number of sides is 6\n",
            "The shape is Octagon\n",
            "The number of sides is 8\n",
            "The shape is Nonagon\n",
            "The number of sides is 9\n"
          ]
        }
      ]
    },
    {
      "cell_type": "code",
      "source": [],
      "metadata": {
        "id": "t_W2b4e8glML"
      },
      "execution_count": null,
      "outputs": []
    }
  ]
}