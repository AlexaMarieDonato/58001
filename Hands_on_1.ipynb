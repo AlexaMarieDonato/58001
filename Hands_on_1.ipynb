{
  "nbformat": 4,
  "nbformat_minor": 0,
  "metadata": {
    "colab": {
      "provenance": [],
      "authorship_tag": "ABX9TyOZsiQXtRg59rQVgCEHncPA",
      "include_colab_link": true
    },
    "kernelspec": {
      "name": "python3",
      "display_name": "Python 3"
    },
    "language_info": {
      "name": "python"
    }
  },
  "cells": [
    {
      "cell_type": "markdown",
      "metadata": {
        "id": "view-in-github",
        "colab_type": "text"
      },
      "source": [
        "<a href=\"https://colab.research.google.com/github/AlexaMarieDonato/OOP-58001/blob/main/Hands_on_1.ipynb\" target=\"_parent\"><img src=\"https://colab.research.google.com/assets/colab-badge.svg\" alt=\"Open In Colab\"/></a>"
      ]
    },
    {
      "cell_type": "code",
      "execution_count": 93,
      "metadata": {
        "colab": {
          "base_uri": "https://localhost:8080/"
        },
        "id": "qJcf-EqgZ3yQ",
        "outputId": "c4e0817e-b189-4bcb-9f35-89fff193cf9f"
      },
      "outputs": [
        {
          "output_type": "stream",
          "name": "stdout",
          "text": [
            "Student 1\n",
            " Prelim grade is:  98\n",
            " Midterm grade is:  95\n",
            " Finals grade is:  97\n",
            "The term grade is:  96.67\n",
            "Student 2\n",
            " Prelim grade is:  91\n",
            " Midterm grade is:  90\n",
            " Finals grade is:  92\n",
            "The term grade is:  91.0\n",
            "Student 3\n",
            " Prelim grade is:  88\n",
            " Midterm grade is:  86\n",
            " Finals grade is:  90\n",
            "The term grade is:  88.0\n"
          ]
        }
      ],
      "source": [
        "#create a python program that displays the name of three students (Student 1, Student 2, and Student 3) and their term grades\n",
        "#create a class name person and attributes - std1, std2, std3, pre, mid, fin\n",
        "#compute the average of each term grade using Grade() method\n",
        "#information about student's grades must be hidden from others\n",
        "\n",
        "class Person:\n",
        "  def __init__(self, name, pre, mid, fin):\n",
        "    self.__name = name\n",
        "    self.__pre = pre\n",
        "    self.__mid = mid\n",
        "    self.__fin = fin\n",
        "  def Grade(self):\n",
        "    print(\"The term grade is: \", round((self.__pre + self.__mid + self.__fin)/3, 2))\n",
        "  def display(self):\n",
        "    print(self.__name)\n",
        "    print(\" Prelim grade is: \", self.__pre)\n",
        "    print(\" Midterm grade is: \", self.__mid)\n",
        "    print(\" Finals grade is: \", self.__fin)\n",
        "\n",
        "class Student1(Person):\n",
        "  pass\n",
        "class Student2(Person):\n",
        "   pass\n",
        "class Student3(Person):\n",
        "  pass\n",
        "\n",
        "std1 = Student1(\"Student 1\", 98, 95, 97)\n",
        "std1.display()\n",
        "std1.Grade()\n",
        "std2 = Student2(\"Student 2\", 91, 90, 92)\n",
        "std2.display()\n",
        "std2.Grade()\n",
        "std3 = Student3(\"Student 3\", 88, 86, 90)\n",
        "std3.display()\n",
        "std3.Grade()"
      ]
    }
  ]
}