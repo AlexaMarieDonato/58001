{
  "nbformat": 4,
  "nbformat_minor": 0,
  "metadata": {
    "colab": {
      "provenance": [],
      "authorship_tag": "ABX9TyOW3w1/I09+uRtE7WlzEzMi",
      "include_colab_link": true
    },
    "kernelspec": {
      "name": "python3",
      "display_name": "Python 3"
    },
    "language_info": {
      "name": "python"
    }
  },
  "cells": [
    {
      "cell_type": "markdown",
      "metadata": {
        "id": "view-in-github",
        "colab_type": "text"
      },
      "source": [
        "<a href=\"https://colab.research.google.com/github/AlexaMarieDonato/OOP-58001/blob/main/Control_Structure.ipynb\" target=\"_parent\"><img src=\"https://colab.research.google.com/assets/colab-badge.svg\" alt=\"Open In Colab\"/></a>"
      ]
    },
    {
      "cell_type": "markdown",
      "source": [
        "Conditional Statement"
      ],
      "metadata": {
        "id": "fI8ijWviETSq"
      }
    },
    {
      "cell_type": "code",
      "source": [
        "#if statement\n",
        "a = 12\n",
        "b = 100\n",
        "if b>a:\n",
        "  print (\"b is greater than a\")\n",
        "\n",
        "if 5>2:\n",
        "  print (\"five is greater than two\")"
      ],
      "metadata": {
        "colab": {
          "base_uri": "https://localhost:8080/"
        },
        "id": "5aUGY6CPEQBK",
        "outputId": "0a4eaff9-83aa-4dc4-e6db-a19168b160f7"
      },
      "execution_count": 5,
      "outputs": [
        {
          "output_type": "stream",
          "name": "stdout",
          "text": [
            "b is greater than a\n",
            "five is greater than two\n"
          ]
        }
      ]
    },
    {
      "cell_type": "code",
      "source": [
        "#elif statement\n",
        "a = 100\n",
        "b = 50\n",
        "if a>b:\n",
        "  print(\"a is greater than b\")\n",
        "elif b>a:\n",
        "  print(\"b is greater than a\")"
      ],
      "metadata": {
        "colab": {
          "base_uri": "https://localhost:8080/"
        },
        "id": "638LvHSvEqIR",
        "outputId": "cd12197f-2683-42b2-b22b-3d69d7f9c126"
      },
      "execution_count": 8,
      "outputs": [
        {
          "output_type": "stream",
          "name": "stdout",
          "text": [
            "a is greater than b\n"
          ]
        }
      ]
    },
    {
      "cell_type": "code",
      "source": [
        "#else statement\n",
        "if a>b:\n",
        "  print(\"a is greater than b\")\n",
        "elif b>a:\n",
        "  print(\"b is greater than a\")\n",
        "else:\n",
        "  print(\"a and b are equal\")"
      ],
      "metadata": {
        "colab": {
          "base_uri": "https://localhost:8080/"
        },
        "id": "tRH7CoG-E8Ke",
        "outputId": "d9871e91-c9bf-4015-ea83-02e6453cab04"
      },
      "execution_count": 9,
      "outputs": [
        {
          "output_type": "stream",
          "name": "stdout",
          "text": [
            "a is greater than b\n"
          ]
        }
      ]
    },
    {
      "cell_type": "markdown",
      "source": [
        "Nested If"
      ],
      "metadata": {
        "id": "YXtHNVN4Ixn4"
      }
    },
    {
      "cell_type": "code",
      "source": [
        "x = 41\n",
        "\n",
        "if x>10:\n",
        "  print(\"above 10,\")\n",
        "else:\n",
        "  print(\"not above 10\")\n",
        "if x>20:\n",
        "  print(\"and also above 20\")\n",
        "else:\n",
        "  print(\"but not above 20\")\n",
        "if x>30:\n",
        "  print(\"and also above 30\")\n",
        "else:\n",
        "  print(\"but not above 30\")\n",
        "if x>40:\n",
        "  print(\"and also above 40\")\n",
        "else:\n",
        "  print(\"but not above 40\")\n",
        "if x<50:\n",
        "  print(\"but below 50\")\n",
        "else:\n",
        "  print(\"and also above 50\")"
      ],
      "metadata": {
        "colab": {
          "base_uri": "https://localhost:8080/"
        },
        "id": "2XmfOqKFIrD4",
        "outputId": "a4b68412-986a-4934-cb74-e36c11084643"
      },
      "execution_count": 19,
      "outputs": [
        {
          "output_type": "stream",
          "name": "stdout",
          "text": [
            "above 10,\n",
            "and also above 20\n",
            "and also above 30\n",
            "and also above 40\n",
            "but below 50\n"
          ]
        }
      ]
    },
    {
      "cell_type": "markdown",
      "source": [
        "Example 1"
      ],
      "metadata": {
        "id": "eqY5k1QnL0xn"
      }
    },
    {
      "cell_type": "code",
      "source": [
        "x = int(input())\n",
        "if x>17:\n",
        "  print(\"You are qualfied to vote.\")\n",
        "else:\n",
        "  print(\"You are not qualified to vote.\")"
      ],
      "metadata": {
        "colab": {
          "base_uri": "https://localhost:8080/"
        },
        "id": "UDl4ax0vL0UP",
        "outputId": "9860ce9e-a683-46db-833e-de7232219f09"
      },
      "execution_count": 26,
      "outputs": [
        {
          "output_type": "stream",
          "name": "stdout",
          "text": [
            "18\n",
            "You are qualfied to vote.\n"
          ]
        }
      ]
    },
    {
      "cell_type": "markdown",
      "source": [
        "Example 2"
      ],
      "metadata": {
        "id": "42-Rc3kAMswX"
      }
    },
    {
      "cell_type": "code",
      "source": [
        "x = int(input())\n",
        "if x > 0:\n",
        "  print(\"The number is positive.\")\n",
        "elif x==0:\n",
        "  print(\"The number is zero.\")\n",
        "else:\n",
        "  print(\"The number is negative.\")"
      ],
      "metadata": {
        "colab": {
          "base_uri": "https://localhost:8080/"
        },
        "id": "nDH6Qi1zMt_m",
        "outputId": "13c51260-09a5-4312-8e00-7d2b432d47d5"
      },
      "execution_count": 25,
      "outputs": [
        {
          "output_type": "stream",
          "name": "stdout",
          "text": [
            "-1\n",
            "The number is negative.\n"
          ]
        }
      ]
    },
    {
      "cell_type": "markdown",
      "source": [
        "Example 3"
      ],
      "metadata": {
        "id": "3bNRQ_lmMuQm"
      }
    },
    {
      "cell_type": "code",
      "source": [
        "x = int(input())\n",
        "if x>69:\n",
        "  print(\"Passed\")\n",
        "elif x < 70 and x > 64:\n",
        "  print(\"Remedial\")\n",
        "elif x > 0:\n",
        "  print(\"Failed\")\n",
        "else:\n",
        "  print(\"This is not a valid number.\")"
      ],
      "metadata": {
        "id": "vntC5YB4MvAW"
      },
      "execution_count": null,
      "outputs": []
    }
  ]
}